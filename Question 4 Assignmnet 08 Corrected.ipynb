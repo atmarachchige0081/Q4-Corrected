{
 "cells": [
  {
   "cell_type": "code",
   "execution_count": 3,
   "metadata": {},
   "outputs": [],
   "source": [
    "import numpy as np\n",
    "import cv2 as cv\n",
    "import matplotlib.pyplot as plt\n",
    "img1 = cv.imread('/examples/img1.ppm')\n",
    "img2 = cv.imread('/examples/img2.ppm')\n",
    "gray1 = cv.cvtColor(img1, cv.COLOR_BGR2GRAY)\n",
    "gray2 = cv.cvtColor(img2, cv.COLOR_BGR2GRAY)\n",
    "sift = cv.SIFT_create()\n",
    "kp1, des1 = sift.detectAndCompute(gray1, None)\n",
    "kp2, des2 = sift.detectAndCompute(gray2, None)\n",
    "bf = cv.BFMatcher(cv.NORM_L2)\n",
    "matches = bf.knnMatch(des1, des2, k=2)\n",
    "good_matches = []\n",
    "for m, n in matches:\n",
    "    if m.distance < 0.75 * n.distance:\n",
    "        good_matches.append(m)\n",
    "MIN_MATCH_COUNT = 10\n",
    "if len(good_matches) >= MIN_MATCH_COUNT:\n",
    "    src_pts = np.float32([kp1[m.queryIdx].pt for m in good_matches]).reshape(-1, 1, 2)\n",
    "    dst_pts = np.float32([kp2[m.trainIdx].pt for m in good_matches]).reshape(-1, 1, 2)\n",
    "    H, mask = cv.findHomography(src_pts, dst_pts, cv.RANSAC, 5.0)\n",
    "    warped_img2 = cv.warpPerspective(img2, H, (img1.shape[1] + img2.shape[1], img1.shape[0]))\n",
    "    warped_img2[:img1.shape[0], :img1.shape[1]] = img1\n",
    "    cv.imshow('Stitched Image result', warped_img2)\n",
    "    cv.waitKey(0)\n",
    "    cv.destroyAllWindows()\n",
    "\n",
    "else:\n",
    "    print(\"Not enough matches for the image - %d/%d\" % (len(good_matches), MIN_MATCH_COUNT))"
   ]
  }
 ],
 "metadata": {
  "kernelspec": {
   "display_name": "cv",
   "language": "python",
   "name": "python3"
  },
  "language_info": {
   "codemirror_mode": {
    "name": "ipython",
    "version": 3
   },
   "file_extension": ".py",
   "mimetype": "text/x-python",
   "name": "python",
   "nbconvert_exporter": "python",
   "pygments_lexer": "ipython3",
   "version": "3.11.1"
  },
  "orig_nbformat": 4
 },
 "nbformat": 4,
 "nbformat_minor": 2
}
